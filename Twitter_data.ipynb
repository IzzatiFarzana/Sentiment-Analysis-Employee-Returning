{
 "cells": [
  {
   "cell_type": "code",
   "execution_count": 1,
   "id": "c3d9f71f",
   "metadata": {},
   "outputs": [],
   "source": [
    "import tweepy\n",
    "import datetime\n",
    "import requests\n",
    "import pandas as pd\n",
    "import numpy as np\n",
    "import time\n"
   ]
  },
  {
   "cell_type": "code",
   "execution_count": 2,
   "id": "00894068",
   "metadata": {},
   "outputs": [],
   "source": [
    "#authetication\n",
    "auth = tweepy.OAuthHandler(\"4PVKnYqWtvzSzFwMHokKB6mYy\",\"cUa1AVKoWH2wGcQIZFHEIpkB04tUSHhsctxWzO11u1UWQqqRhV\")\n",
    "auth.set_access_token(\"1555060328714551296-4JDIPJpkuTarJOYZ4myOWLAaWz7hTv\", \"6rjPG7XXMeIMfrWrBABmZhXfAJj70Gv1IQqsBjh5fl5GT\")\n"
   ]
  },
  {
   "cell_type": "code",
   "execution_count": 3,
   "id": "a10ac7ba",
   "metadata": {},
   "outputs": [],
   "source": [
    "api = tweepy.API(auth)\n",
    "client = tweepy.Client(\"AAAAAAAAAAAAAAAAAAAAANZ5fgEAAAAAhO0P3Bxz63SMcvSJlv0FlKqSzDY%3DcLLxwQgrye4wcLytJOT8eHA7mFvRYapoRah3eh7WUFF9QSA3ha\")\n",
    "\n"
   ]
  },
  {
   "cell_type": "code",
   "execution_count": 4,
   "id": "fd916ae7",
   "metadata": {},
   "outputs": [],
   "source": [
    "office_tweets = []\n",
    "for response in tweepy.Paginator(client.search_all_tweets, \n",
    "                                 query = 'backtooffice OR back2office OR returntowork OR returntooffice OR return2office -is:retweet lang:en',\n",
    "                                 user_fields = ['username', 'location'],\n",
    "                                 tweet_fields = ['created_at', 'geo', 'text'],\n",
    "                                 expansions = 'author_id',\n",
    "                                 start_time = '2022-04-01T00:00:00Z',\n",
    "                                 end_time = '2022-10-31T00:00:00Z',\n",
    "                              max_results=500):\n",
    "    time.sleep(1)\n",
    "    office_tweets.append(response)\n",
    "\n"
   ]
  },
  {
   "cell_type": "code",
   "execution_count": 5,
   "id": "fe7f84ab",
   "metadata": {},
   "outputs": [],
   "source": [
    "result = []\n",
    "user_dict = {}\n",
    "# Loop through each response object\n",
    "for response in office_tweets:\n",
    "    # Take all of the users, and put them into a dictionary of dictionaries with the info we want to keep\n",
    "    for user in response.includes['users']:\n",
    "        user_dict[user.id] = {'username': user.username, \n",
    "                              'location': user.location\n",
    "                             }\n",
    "    for tweet in response.data:\n",
    "        # For each tweet, find the author's information\n",
    "        author_info = user_dict[tweet.author_id]\n",
    "        # Put all of the information we want to keep in a single dictionary for each tweet\n",
    "        result.append({'author_id': tweet.author_id, \n",
    "                       'username': author_info['username'],\n",
    "                       'author_location': author_info['location'],\n",
    "                       'text': tweet.text,\n",
    "                       'created_at': tweet.created_at\n",
    "                      })\n",
    "\n",
    "# Change this list of dictionaries into a dataframe\n",
    "df = pd.DataFrame(result)"
   ]
  },
  {
   "cell_type": "code",
   "execution_count": 6,
   "id": "a676b6c6",
   "metadata": {},
   "outputs": [
    {
     "data": {
      "text/plain": [
       "11582"
      ]
     },
     "execution_count": 6,
     "metadata": {},
     "output_type": "execute_result"
    }
   ],
   "source": [
    "df.shape[0]"
   ]
  },
  {
   "cell_type": "code",
   "execution_count": 7,
   "id": "4b0aef79",
   "metadata": {},
   "outputs": [
    {
     "data": {
      "text/html": [
       "<div>\n",
       "<style scoped>\n",
       "    .dataframe tbody tr th:only-of-type {\n",
       "        vertical-align: middle;\n",
       "    }\n",
       "\n",
       "    .dataframe tbody tr th {\n",
       "        vertical-align: top;\n",
       "    }\n",
       "\n",
       "    .dataframe thead th {\n",
       "        text-align: right;\n",
       "    }\n",
       "</style>\n",
       "<table border=\"1\" class=\"dataframe\">\n",
       "  <thead>\n",
       "    <tr style=\"text-align: right;\">\n",
       "      <th></th>\n",
       "      <th>author_id</th>\n",
       "      <th>username</th>\n",
       "      <th>author_location</th>\n",
       "      <th>text</th>\n",
       "      <th>created_at</th>\n",
       "    </tr>\n",
       "  </thead>\n",
       "  <tbody>\n",
       "    <tr>\n",
       "      <th>0</th>\n",
       "      <td>3345194367</td>\n",
       "      <td>Corix_JC</td>\n",
       "      <td>London, England</td>\n",
       "      <td>The Future of Work and the Great Realignment \\...</td>\n",
       "      <td>2022-10-30 22:05:01+00:00</td>\n",
       "    </tr>\n",
       "    <tr>\n",
       "      <th>1</th>\n",
       "      <td>1309334978795372544</td>\n",
       "      <td>_Jose_Rico</td>\n",
       "      <td>Dusseldorf</td>\n",
       "      <td>Learn more about the importance of agency coll...</td>\n",
       "      <td>2022-10-30 20:00:36+00:00</td>\n",
       "    </tr>\n",
       "    <tr>\n",
       "      <th>2</th>\n",
       "      <td>614598187</td>\n",
       "      <td>swetaregmi</td>\n",
       "      <td>Canada</td>\n",
       "      <td>#returntowork ?\\n are #scentpolicy in place? \\...</td>\n",
       "      <td>2022-10-30 19:00:16+00:00</td>\n",
       "    </tr>\n",
       "    <tr>\n",
       "      <th>3</th>\n",
       "      <td>130533518</td>\n",
       "      <td>chpar22</td>\n",
       "      <td>None</td>\n",
       "      <td>RT @mtptproject: #KITdays for coaching! \\n\\nCo...</td>\n",
       "      <td>2022-10-30 16:50:47+00:00</td>\n",
       "    </tr>\n",
       "    <tr>\n",
       "      <th>4</th>\n",
       "      <td>736472070</td>\n",
       "      <td>corixpartners</td>\n",
       "      <td>London, UK</td>\n",
       "      <td>RT @Corix_JC: #Hybrid Work Is Not the Problem ...</td>\n",
       "      <td>2022-10-30 15:51:26+00:00</td>\n",
       "    </tr>\n",
       "    <tr>\n",
       "      <th>...</th>\n",
       "      <td>...</td>\n",
       "      <td>...</td>\n",
       "      <td>...</td>\n",
       "      <td>...</td>\n",
       "      <td>...</td>\n",
       "    </tr>\n",
       "    <tr>\n",
       "      <th>11577</th>\n",
       "      <td>1942523551</td>\n",
       "      <td>FlexisourceIT</td>\n",
       "      <td>Victoria, Australia</td>\n",
       "      <td>Is your company one of those organizations ret...</td>\n",
       "      <td>2022-04-01 01:00:01+00:00</td>\n",
       "    </tr>\n",
       "    <tr>\n",
       "      <th>11578</th>\n",
       "      <td>295475781</td>\n",
       "      <td>KatieRitchie131</td>\n",
       "      <td>Baltimore, MD</td>\n",
       "      <td>Search results for “work pants that feel like ...</td>\n",
       "      <td>2022-04-01 00:58:42+00:00</td>\n",
       "    </tr>\n",
       "    <tr>\n",
       "      <th>11579</th>\n",
       "      <td>18665100</td>\n",
       "      <td>brianpelliott</td>\n",
       "      <td>San Francisco, CA</td>\n",
       "      <td>@FutureForum Myth 2 driving #ReturnToOffice: t...</td>\n",
       "      <td>2022-04-01 00:38:34+00:00</td>\n",
       "    </tr>\n",
       "    <tr>\n",
       "      <th>11580</th>\n",
       "      <td>1306136273782935553</td>\n",
       "      <td>MentalHealthBo5</td>\n",
       "      <td>None</td>\n",
       "      <td>RT @mindnation: Feeling #stressed and #anxious...</td>\n",
       "      <td>2022-04-01 00:05:09+00:00</td>\n",
       "    </tr>\n",
       "    <tr>\n",
       "      <th>11581</th>\n",
       "      <td>1093476147189305346</td>\n",
       "      <td>mindnation</td>\n",
       "      <td>Singapore</td>\n",
       "      <td>Feeling #stressed and #anxious about returning...</td>\n",
       "      <td>2022-04-01 00:05:04+00:00</td>\n",
       "    </tr>\n",
       "  </tbody>\n",
       "</table>\n",
       "<p>11582 rows × 5 columns</p>\n",
       "</div>"
      ],
      "text/plain": [
       "                 author_id         username      author_location  \\\n",
       "0               3345194367         Corix_JC      London, England   \n",
       "1      1309334978795372544       _Jose_Rico           Dusseldorf   \n",
       "2                614598187       swetaregmi               Canada   \n",
       "3                130533518          chpar22                 None   \n",
       "4                736472070    corixpartners           London, UK   \n",
       "...                    ...              ...                  ...   \n",
       "11577           1942523551    FlexisourceIT  Victoria, Australia   \n",
       "11578            295475781  KatieRitchie131        Baltimore, MD   \n",
       "11579             18665100    brianpelliott    San Francisco, CA   \n",
       "11580  1306136273782935553  MentalHealthBo5                 None   \n",
       "11581  1093476147189305346       mindnation            Singapore   \n",
       "\n",
       "                                                    text  \\\n",
       "0      The Future of Work and the Great Realignment \\...   \n",
       "1      Learn more about the importance of agency coll...   \n",
       "2      #returntowork ?\\n are #scentpolicy in place? \\...   \n",
       "3      RT @mtptproject: #KITdays for coaching! \\n\\nCo...   \n",
       "4      RT @Corix_JC: #Hybrid Work Is Not the Problem ...   \n",
       "...                                                  ...   \n",
       "11577  Is your company one of those organizations ret...   \n",
       "11578  Search results for “work pants that feel like ...   \n",
       "11579  @FutureForum Myth 2 driving #ReturnToOffice: t...   \n",
       "11580  RT @mindnation: Feeling #stressed and #anxious...   \n",
       "11581  Feeling #stressed and #anxious about returning...   \n",
       "\n",
       "                     created_at  \n",
       "0     2022-10-30 22:05:01+00:00  \n",
       "1     2022-10-30 20:00:36+00:00  \n",
       "2     2022-10-30 19:00:16+00:00  \n",
       "3     2022-10-30 16:50:47+00:00  \n",
       "4     2022-10-30 15:51:26+00:00  \n",
       "...                         ...  \n",
       "11577 2022-04-01 01:00:01+00:00  \n",
       "11578 2022-04-01 00:58:42+00:00  \n",
       "11579 2022-04-01 00:38:34+00:00  \n",
       "11580 2022-04-01 00:05:09+00:00  \n",
       "11581 2022-04-01 00:05:04+00:00  \n",
       "\n",
       "[11582 rows x 5 columns]"
      ]
     },
     "execution_count": 7,
     "metadata": {},
     "output_type": "execute_result"
    }
   ],
   "source": [
    "df"
   ]
  },
  {
   "cell_type": "code",
   "execution_count": 8,
   "id": "8fb26e4d",
   "metadata": {},
   "outputs": [],
   "source": [
    "df.to_csv('data3.csv', index = False)"
   ]
  },
  {
   "cell_type": "code",
   "execution_count": 9,
   "id": "6492f4ad",
   "metadata": {},
   "outputs": [
    {
     "ename": "KeyError",
     "evalue": "11582",
     "output_type": "error",
     "traceback": [
      "\u001b[0;31m---------------------------------------------------------------------------\u001b[0m",
      "\u001b[0;31mValueError\u001b[0m                                Traceback (most recent call last)",
      "\u001b[0;32m/opt/anaconda3/lib/python3.9/site-packages/pandas/core/indexes/range.py\u001b[0m in \u001b[0;36mget_loc\u001b[0;34m(self, key, method, tolerance)\u001b[0m\n\u001b[1;32m    384\u001b[0m                 \u001b[0;32mtry\u001b[0m\u001b[0;34m:\u001b[0m\u001b[0;34m\u001b[0m\u001b[0;34m\u001b[0m\u001b[0m\n\u001b[0;32m--> 385\u001b[0;31m                     \u001b[0;32mreturn\u001b[0m \u001b[0mself\u001b[0m\u001b[0;34m.\u001b[0m\u001b[0m_range\u001b[0m\u001b[0;34m.\u001b[0m\u001b[0mindex\u001b[0m\u001b[0;34m(\u001b[0m\u001b[0mnew_key\u001b[0m\u001b[0;34m)\u001b[0m\u001b[0;34m\u001b[0m\u001b[0;34m\u001b[0m\u001b[0m\n\u001b[0m\u001b[1;32m    386\u001b[0m                 \u001b[0;32mexcept\u001b[0m \u001b[0mValueError\u001b[0m \u001b[0;32mas\u001b[0m \u001b[0merr\u001b[0m\u001b[0;34m:\u001b[0m\u001b[0;34m\u001b[0m\u001b[0;34m\u001b[0m\u001b[0m\n",
      "\u001b[0;31mValueError\u001b[0m: 11582 is not in range",
      "\nThe above exception was the direct cause of the following exception:\n",
      "\u001b[0;31mKeyError\u001b[0m                                  Traceback (most recent call last)",
      "\u001b[0;32m/var/folders/y6/tw203h790m3csk70pmkmg9tr0000gn/T/ipykernel_3106/2436110900.py\u001b[0m in \u001b[0;36m<module>\u001b[0;34m\u001b[0m\n\u001b[0;32m----> 1\u001b[0;31m \u001b[0mdf\u001b[0m\u001b[0;34m.\u001b[0m\u001b[0mtext\u001b[0m\u001b[0;34m[\u001b[0m\u001b[0;36m11582\u001b[0m\u001b[0;34m]\u001b[0m\u001b[0;34m\u001b[0m\u001b[0;34m\u001b[0m\u001b[0m\n\u001b[0m",
      "\u001b[0;32m/opt/anaconda3/lib/python3.9/site-packages/pandas/core/series.py\u001b[0m in \u001b[0;36m__getitem__\u001b[0;34m(self, key)\u001b[0m\n\u001b[1;32m    956\u001b[0m \u001b[0;34m\u001b[0m\u001b[0m\n\u001b[1;32m    957\u001b[0m         \u001b[0;32melif\u001b[0m \u001b[0mkey_is_scalar\u001b[0m\u001b[0;34m:\u001b[0m\u001b[0;34m\u001b[0m\u001b[0;34m\u001b[0m\u001b[0m\n\u001b[0;32m--> 958\u001b[0;31m             \u001b[0;32mreturn\u001b[0m \u001b[0mself\u001b[0m\u001b[0;34m.\u001b[0m\u001b[0m_get_value\u001b[0m\u001b[0;34m(\u001b[0m\u001b[0mkey\u001b[0m\u001b[0;34m)\u001b[0m\u001b[0;34m\u001b[0m\u001b[0;34m\u001b[0m\u001b[0m\n\u001b[0m\u001b[1;32m    959\u001b[0m \u001b[0;34m\u001b[0m\u001b[0m\n\u001b[1;32m    960\u001b[0m         \u001b[0;32mif\u001b[0m \u001b[0mis_hashable\u001b[0m\u001b[0;34m(\u001b[0m\u001b[0mkey\u001b[0m\u001b[0;34m)\u001b[0m\u001b[0;34m:\u001b[0m\u001b[0;34m\u001b[0m\u001b[0;34m\u001b[0m\u001b[0m\n",
      "\u001b[0;32m/opt/anaconda3/lib/python3.9/site-packages/pandas/core/series.py\u001b[0m in \u001b[0;36m_get_value\u001b[0;34m(self, label, takeable)\u001b[0m\n\u001b[1;32m   1067\u001b[0m \u001b[0;34m\u001b[0m\u001b[0m\n\u001b[1;32m   1068\u001b[0m         \u001b[0;31m# Similar to Index.get_value, but we do not fall back to positional\u001b[0m\u001b[0;34m\u001b[0m\u001b[0;34m\u001b[0m\u001b[0m\n\u001b[0;32m-> 1069\u001b[0;31m         \u001b[0mloc\u001b[0m \u001b[0;34m=\u001b[0m \u001b[0mself\u001b[0m\u001b[0;34m.\u001b[0m\u001b[0mindex\u001b[0m\u001b[0;34m.\u001b[0m\u001b[0mget_loc\u001b[0m\u001b[0;34m(\u001b[0m\u001b[0mlabel\u001b[0m\u001b[0;34m)\u001b[0m\u001b[0;34m\u001b[0m\u001b[0;34m\u001b[0m\u001b[0m\n\u001b[0m\u001b[1;32m   1070\u001b[0m         \u001b[0;32mreturn\u001b[0m \u001b[0mself\u001b[0m\u001b[0;34m.\u001b[0m\u001b[0mindex\u001b[0m\u001b[0;34m.\u001b[0m\u001b[0m_get_values_for_loc\u001b[0m\u001b[0;34m(\u001b[0m\u001b[0mself\u001b[0m\u001b[0;34m,\u001b[0m \u001b[0mloc\u001b[0m\u001b[0;34m,\u001b[0m \u001b[0mlabel\u001b[0m\u001b[0;34m)\u001b[0m\u001b[0;34m\u001b[0m\u001b[0;34m\u001b[0m\u001b[0m\n\u001b[1;32m   1071\u001b[0m \u001b[0;34m\u001b[0m\u001b[0m\n",
      "\u001b[0;32m/opt/anaconda3/lib/python3.9/site-packages/pandas/core/indexes/range.py\u001b[0m in \u001b[0;36mget_loc\u001b[0;34m(self, key, method, tolerance)\u001b[0m\n\u001b[1;32m    385\u001b[0m                     \u001b[0;32mreturn\u001b[0m \u001b[0mself\u001b[0m\u001b[0;34m.\u001b[0m\u001b[0m_range\u001b[0m\u001b[0;34m.\u001b[0m\u001b[0mindex\u001b[0m\u001b[0;34m(\u001b[0m\u001b[0mnew_key\u001b[0m\u001b[0;34m)\u001b[0m\u001b[0;34m\u001b[0m\u001b[0;34m\u001b[0m\u001b[0m\n\u001b[1;32m    386\u001b[0m                 \u001b[0;32mexcept\u001b[0m \u001b[0mValueError\u001b[0m \u001b[0;32mas\u001b[0m \u001b[0merr\u001b[0m\u001b[0;34m:\u001b[0m\u001b[0;34m\u001b[0m\u001b[0;34m\u001b[0m\u001b[0m\n\u001b[0;32m--> 387\u001b[0;31m                     \u001b[0;32mraise\u001b[0m \u001b[0mKeyError\u001b[0m\u001b[0;34m(\u001b[0m\u001b[0mkey\u001b[0m\u001b[0;34m)\u001b[0m \u001b[0;32mfrom\u001b[0m \u001b[0merr\u001b[0m\u001b[0;34m\u001b[0m\u001b[0;34m\u001b[0m\u001b[0m\n\u001b[0m\u001b[1;32m    388\u001b[0m             \u001b[0mself\u001b[0m\u001b[0;34m.\u001b[0m\u001b[0m_check_indexing_error\u001b[0m\u001b[0;34m(\u001b[0m\u001b[0mkey\u001b[0m\u001b[0;34m)\u001b[0m\u001b[0;34m\u001b[0m\u001b[0;34m\u001b[0m\u001b[0m\n\u001b[1;32m    389\u001b[0m             \u001b[0;32mraise\u001b[0m \u001b[0mKeyError\u001b[0m\u001b[0;34m(\u001b[0m\u001b[0mkey\u001b[0m\u001b[0;34m)\u001b[0m\u001b[0;34m\u001b[0m\u001b[0;34m\u001b[0m\u001b[0m\n",
      "\u001b[0;31mKeyError\u001b[0m: 11582"
     ]
    }
   ],
   "source": [
    "df.text[11582]"
   ]
  },
  {
   "cell_type": "code",
   "execution_count": null,
   "id": "d5febd95",
   "metadata": {},
   "outputs": [],
   "source": []
  }
 ],
 "metadata": {
  "kernelspec": {
   "display_name": "Python 3 (ipykernel)",
   "language": "python",
   "name": "python3"
  },
  "language_info": {
   "codemirror_mode": {
    "name": "ipython",
    "version": 3
   },
   "file_extension": ".py",
   "mimetype": "text/x-python",
   "name": "python",
   "nbconvert_exporter": "python",
   "pygments_lexer": "ipython3",
   "version": "3.9.7"
  }
 },
 "nbformat": 4,
 "nbformat_minor": 5
}
